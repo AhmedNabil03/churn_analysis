{
 "cells": [
  {
   "cell_type": "code",
   "execution_count": 1,
   "id": "08b3c0fa-5cb0-401c-91dd-01dd923ca48b",
   "metadata": {},
   "outputs": [],
   "source": [
    "import numpy as np\n",
    "import pandas as pd\n",
    "import matplotlib.pyplot as plt\n",
    "import seaborn as sns"
   ]
  },
  {
   "cell_type": "code",
   "execution_count": 2,
   "id": "76487bff",
   "metadata": {},
   "outputs": [],
   "source": [
    "df = pd.read_csv('churn_data.csv')"
   ]
  },
  {
   "cell_type": "code",
   "execution_count": 3,
   "id": "050220f4",
   "metadata": {},
   "outputs": [
    {
     "data": {
      "text/html": [
       "<div>\n",
       "<style scoped>\n",
       "    .dataframe tbody tr th:only-of-type {\n",
       "        vertical-align: middle;\n",
       "    }\n",
       "\n",
       "    .dataframe tbody tr th {\n",
       "        vertical-align: top;\n",
       "    }\n",
       "\n",
       "    .dataframe thead th {\n",
       "        text-align: right;\n",
       "    }\n",
       "</style>\n",
       "<table border=\"1\" class=\"dataframe\">\n",
       "  <thead>\n",
       "    <tr style=\"text-align: right;\">\n",
       "      <th></th>\n",
       "      <th>customer_id</th>\n",
       "      <th>Name</th>\n",
       "      <th>age</th>\n",
       "      <th>gender</th>\n",
       "      <th>security_no</th>\n",
       "      <th>region_category</th>\n",
       "      <th>membership_category</th>\n",
       "      <th>joining_date</th>\n",
       "      <th>joined_through_referral</th>\n",
       "      <th>referral_id</th>\n",
       "      <th>...</th>\n",
       "      <th>avg_time_spent</th>\n",
       "      <th>avg_transaction_value</th>\n",
       "      <th>avg_frequency_login_days</th>\n",
       "      <th>points_in_wallet</th>\n",
       "      <th>used_special_discount</th>\n",
       "      <th>offer_application_preference</th>\n",
       "      <th>past_complaint</th>\n",
       "      <th>complaint_status</th>\n",
       "      <th>feedback</th>\n",
       "      <th>churn_risk_score</th>\n",
       "    </tr>\n",
       "  </thead>\n",
       "  <tbody>\n",
       "    <tr>\n",
       "      <th>0</th>\n",
       "      <td>fffe4300490044003600300030003800</td>\n",
       "      <td>Pattie Morrisey</td>\n",
       "      <td>18</td>\n",
       "      <td>F</td>\n",
       "      <td>XW0DQ7H</td>\n",
       "      <td>Village</td>\n",
       "      <td>Platinum Membership</td>\n",
       "      <td>8/17/2017</td>\n",
       "      <td>No</td>\n",
       "      <td>xxxxxxxx</td>\n",
       "      <td>...</td>\n",
       "      <td>300.63</td>\n",
       "      <td>53005.25</td>\n",
       "      <td>17</td>\n",
       "      <td>781.75</td>\n",
       "      <td>Yes</td>\n",
       "      <td>Yes</td>\n",
       "      <td>No</td>\n",
       "      <td>Not Applicable</td>\n",
       "      <td>Products always in Stock</td>\n",
       "      <td>2</td>\n",
       "    </tr>\n",
       "    <tr>\n",
       "      <th>1</th>\n",
       "      <td>fffe43004900440032003100300035003700</td>\n",
       "      <td>Traci Peery</td>\n",
       "      <td>32</td>\n",
       "      <td>F</td>\n",
       "      <td>5K0N3X1</td>\n",
       "      <td>City</td>\n",
       "      <td>Premium Membership</td>\n",
       "      <td>8/28/2017</td>\n",
       "      <td>?</td>\n",
       "      <td>CID21329</td>\n",
       "      <td>...</td>\n",
       "      <td>306.34</td>\n",
       "      <td>12838.38</td>\n",
       "      <td>10</td>\n",
       "      <td>NaN</td>\n",
       "      <td>Yes</td>\n",
       "      <td>No</td>\n",
       "      <td>Yes</td>\n",
       "      <td>Solved</td>\n",
       "      <td>Quality Customer Care</td>\n",
       "      <td>1</td>\n",
       "    </tr>\n",
       "    <tr>\n",
       "      <th>2</th>\n",
       "      <td>fffe4300490044003100390032003600</td>\n",
       "      <td>Merideth Mcmeen</td>\n",
       "      <td>44</td>\n",
       "      <td>F</td>\n",
       "      <td>1F2TCL3</td>\n",
       "      <td>Town</td>\n",
       "      <td>No Membership</td>\n",
       "      <td>11/11/2016</td>\n",
       "      <td>Yes</td>\n",
       "      <td>CID12313</td>\n",
       "      <td>...</td>\n",
       "      <td>516.16</td>\n",
       "      <td>21027.00</td>\n",
       "      <td>22</td>\n",
       "      <td>500.69</td>\n",
       "      <td>No</td>\n",
       "      <td>Yes</td>\n",
       "      <td>Yes</td>\n",
       "      <td>Solved in Follow-up</td>\n",
       "      <td>Poor Website</td>\n",
       "      <td>5</td>\n",
       "    </tr>\n",
       "    <tr>\n",
       "      <th>3</th>\n",
       "      <td>fffe43004900440036003000330031003600</td>\n",
       "      <td>Eufemia Cardwell</td>\n",
       "      <td>37</td>\n",
       "      <td>M</td>\n",
       "      <td>VJGJ33N</td>\n",
       "      <td>City</td>\n",
       "      <td>No Membership</td>\n",
       "      <td>10/29/2016</td>\n",
       "      <td>Yes</td>\n",
       "      <td>CID3793</td>\n",
       "      <td>...</td>\n",
       "      <td>53.27</td>\n",
       "      <td>25239.56</td>\n",
       "      <td>6</td>\n",
       "      <td>567.66</td>\n",
       "      <td>No</td>\n",
       "      <td>Yes</td>\n",
       "      <td>Yes</td>\n",
       "      <td>Unsolved</td>\n",
       "      <td>Poor Website</td>\n",
       "      <td>5</td>\n",
       "    </tr>\n",
       "    <tr>\n",
       "      <th>4</th>\n",
       "      <td>fffe43004900440031003900350030003600</td>\n",
       "      <td>Meghan Kosak</td>\n",
       "      <td>31</td>\n",
       "      <td>F</td>\n",
       "      <td>SVZXCWB</td>\n",
       "      <td>City</td>\n",
       "      <td>No Membership</td>\n",
       "      <td>9/12/2017</td>\n",
       "      <td>No</td>\n",
       "      <td>xxxxxxxx</td>\n",
       "      <td>...</td>\n",
       "      <td>113.13</td>\n",
       "      <td>24483.66</td>\n",
       "      <td>16</td>\n",
       "      <td>663.06</td>\n",
       "      <td>No</td>\n",
       "      <td>Yes</td>\n",
       "      <td>Yes</td>\n",
       "      <td>Solved</td>\n",
       "      <td>Poor Website</td>\n",
       "      <td>5</td>\n",
       "    </tr>\n",
       "  </tbody>\n",
       "</table>\n",
       "<p>5 rows × 25 columns</p>\n",
       "</div>"
      ],
      "text/plain": [
       "                            customer_id              Name  age gender  \\\n",
       "0      fffe4300490044003600300030003800   Pattie Morrisey   18      F   \n",
       "1  fffe43004900440032003100300035003700       Traci Peery   32      F   \n",
       "2      fffe4300490044003100390032003600   Merideth Mcmeen   44      F   \n",
       "3  fffe43004900440036003000330031003600  Eufemia Cardwell   37      M   \n",
       "4  fffe43004900440031003900350030003600      Meghan Kosak   31      F   \n",
       "\n",
       "  security_no region_category  membership_category joining_date  \\\n",
       "0     XW0DQ7H         Village  Platinum Membership    8/17/2017   \n",
       "1     5K0N3X1            City   Premium Membership    8/28/2017   \n",
       "2     1F2TCL3            Town        No Membership   11/11/2016   \n",
       "3     VJGJ33N            City        No Membership   10/29/2016   \n",
       "4     SVZXCWB            City        No Membership    9/12/2017   \n",
       "\n",
       "  joined_through_referral referral_id  ... avg_time_spent  \\\n",
       "0                      No    xxxxxxxx  ...         300.63   \n",
       "1                       ?    CID21329  ...         306.34   \n",
       "2                     Yes    CID12313  ...         516.16   \n",
       "3                     Yes     CID3793  ...          53.27   \n",
       "4                      No    xxxxxxxx  ...         113.13   \n",
       "\n",
       "  avg_transaction_value avg_frequency_login_days points_in_wallet  \\\n",
       "0              53005.25                       17           781.75   \n",
       "1              12838.38                       10              NaN   \n",
       "2              21027.00                       22           500.69   \n",
       "3              25239.56                        6           567.66   \n",
       "4              24483.66                       16           663.06   \n",
       "\n",
       "   used_special_discount  offer_application_preference  past_complaint  \\\n",
       "0                    Yes                           Yes              No   \n",
       "1                    Yes                            No             Yes   \n",
       "2                     No                           Yes             Yes   \n",
       "3                     No                           Yes             Yes   \n",
       "4                     No                           Yes             Yes   \n",
       "\n",
       "      complaint_status                  feedback churn_risk_score  \n",
       "0       Not Applicable  Products always in Stock                2  \n",
       "1               Solved     Quality Customer Care                1  \n",
       "2  Solved in Follow-up              Poor Website                5  \n",
       "3             Unsolved              Poor Website                5  \n",
       "4               Solved              Poor Website                5  \n",
       "\n",
       "[5 rows x 25 columns]"
      ]
     },
     "execution_count": 3,
     "metadata": {},
     "output_type": "execute_result"
    }
   ],
   "source": [
    "df.head()"
   ]
  },
  {
   "cell_type": "code",
   "execution_count": 4,
   "id": "3c501371",
   "metadata": {},
   "outputs": [
    {
     "data": {
      "text/plain": [
       "(36992, 25)"
      ]
     },
     "execution_count": 4,
     "metadata": {},
     "output_type": "execute_result"
    }
   ],
   "source": [
    "df.shape"
   ]
  },
  {
   "cell_type": "code",
   "execution_count": 5,
   "id": "4b1547f2",
   "metadata": {},
   "outputs": [
    {
     "data": {
      "text/plain": [
       "customer_id                        0\n",
       "Name                               0\n",
       "age                                0\n",
       "gender                             0\n",
       "security_no                        0\n",
       "region_category                 5428\n",
       "membership_category                0\n",
       "joining_date                       0\n",
       "joined_through_referral            0\n",
       "referral_id                        0\n",
       "preferred_offer_types            288\n",
       "medium_of_operation                0\n",
       "internet_option                    0\n",
       "last_visit_time                    0\n",
       "days_since_last_login              0\n",
       "avg_time_spent                     0\n",
       "avg_transaction_value              0\n",
       "avg_frequency_login_days           0\n",
       "points_in_wallet                3443\n",
       "used_special_discount              0\n",
       "offer_application_preference       0\n",
       "past_complaint                     0\n",
       "complaint_status                   0\n",
       "feedback                           0\n",
       "churn_risk_score                   0\n",
       "dtype: int64"
      ]
     },
     "execution_count": 5,
     "metadata": {},
     "output_type": "execute_result"
    }
   ],
   "source": [
    "df.isnull().sum()"
   ]
  },
  {
   "cell_type": "code",
   "execution_count": 6,
   "id": "30cfcc05",
   "metadata": {},
   "outputs": [],
   "source": [
    "df = df.dropna()"
   ]
  },
  {
   "cell_type": "code",
   "execution_count": 7,
   "id": "6853fb17",
   "metadata": {},
   "outputs": [
    {
     "data": {
      "text/plain": [
       "(28373, 25)"
      ]
     },
     "execution_count": 7,
     "metadata": {},
     "output_type": "execute_result"
    }
   ],
   "source": [
    "df.shape"
   ]
  },
  {
   "cell_type": "code",
   "execution_count": 8,
   "id": "c3117f59",
   "metadata": {},
   "outputs": [
    {
     "data": {
      "text/plain": [
       "0"
      ]
     },
     "execution_count": 8,
     "metadata": {},
     "output_type": "execute_result"
    }
   ],
   "source": [
    "df.duplicated().sum()"
   ]
  },
  {
   "cell_type": "code",
   "execution_count": 9,
   "id": "fc53de51",
   "metadata": {},
   "outputs": [
    {
     "data": {
      "text/plain": [
       "customer_id                     28373\n",
       "Name                            28373\n",
       "age                                55\n",
       "gender                              3\n",
       "security_no                     28373\n",
       "region_category                     3\n",
       "membership_category                 6\n",
       "joining_date                     1096\n",
       "joined_through_referral             3\n",
       "referral_id                      9604\n",
       "preferred_offer_types               3\n",
       "medium_of_operation                 4\n",
       "internet_option                     3\n",
       "last_visit_time                 24196\n",
       "days_since_last_login              27\n",
       "avg_time_spent                  21049\n",
       "avg_transaction_value           28312\n",
       "avg_frequency_login_days         1266\n",
       "points_in_wallet                20977\n",
       "used_special_discount               2\n",
       "offer_application_preference        2\n",
       "past_complaint                      2\n",
       "complaint_status                    5\n",
       "feedback                            9\n",
       "churn_risk_score                    6\n",
       "dtype: int64"
      ]
     },
     "execution_count": 9,
     "metadata": {},
     "output_type": "execute_result"
    }
   ],
   "source": [
    "df.nunique()"
   ]
  },
  {
   "cell_type": "code",
   "execution_count": 10,
   "id": "c682b88e",
   "metadata": {},
   "outputs": [
    {
     "data": {
      "text/html": [
       "<div>\n",
       "<style scoped>\n",
       "    .dataframe tbody tr th:only-of-type {\n",
       "        vertical-align: middle;\n",
       "    }\n",
       "\n",
       "    .dataframe tbody tr th {\n",
       "        vertical-align: top;\n",
       "    }\n",
       "\n",
       "    .dataframe thead th {\n",
       "        text-align: right;\n",
       "    }\n",
       "</style>\n",
       "<table border=\"1\" class=\"dataframe\">\n",
       "  <thead>\n",
       "    <tr style=\"text-align: right;\">\n",
       "      <th></th>\n",
       "      <th>age</th>\n",
       "      <th>days_since_last_login</th>\n",
       "      <th>avg_time_spent</th>\n",
       "      <th>avg_transaction_value</th>\n",
       "      <th>points_in_wallet</th>\n",
       "      <th>churn_risk_score</th>\n",
       "    </tr>\n",
       "  </thead>\n",
       "  <tbody>\n",
       "    <tr>\n",
       "      <th>count</th>\n",
       "      <td>28373.000000</td>\n",
       "      <td>28373.000000</td>\n",
       "      <td>28373.000000</td>\n",
       "      <td>28373.000000</td>\n",
       "      <td>28373.000000</td>\n",
       "      <td>28373.000000</td>\n",
       "    </tr>\n",
       "    <tr>\n",
       "      <th>mean</th>\n",
       "      <td>37.081310</td>\n",
       "      <td>-42.587319</td>\n",
       "      <td>243.610043</td>\n",
       "      <td>29314.556610</td>\n",
       "      <td>688.008287</td>\n",
       "      <td>3.458253</td>\n",
       "    </tr>\n",
       "    <tr>\n",
       "      <th>std</th>\n",
       "      <td>15.894149</td>\n",
       "      <td>230.134583</td>\n",
       "      <td>401.153815</td>\n",
       "      <td>19509.169615</td>\n",
       "      <td>194.227585</td>\n",
       "      <td>1.411966</td>\n",
       "    </tr>\n",
       "    <tr>\n",
       "      <th>min</th>\n",
       "      <td>10.000000</td>\n",
       "      <td>-999.000000</td>\n",
       "      <td>-2814.109110</td>\n",
       "      <td>800.460000</td>\n",
       "      <td>-760.661236</td>\n",
       "      <td>-1.000000</td>\n",
       "    </tr>\n",
       "    <tr>\n",
       "      <th>25%</th>\n",
       "      <td>23.000000</td>\n",
       "      <td>8.000000</td>\n",
       "      <td>59.840000</td>\n",
       "      <td>14191.820000</td>\n",
       "      <td>616.620000</td>\n",
       "      <td>3.000000</td>\n",
       "    </tr>\n",
       "    <tr>\n",
       "      <th>50%</th>\n",
       "      <td>37.000000</td>\n",
       "      <td>12.000000</td>\n",
       "      <td>161.670000</td>\n",
       "      <td>27562.670000</td>\n",
       "      <td>698.480000</td>\n",
       "      <td>4.000000</td>\n",
       "    </tr>\n",
       "    <tr>\n",
       "      <th>75%</th>\n",
       "      <td>51.000000</td>\n",
       "      <td>16.000000</td>\n",
       "      <td>356.580000</td>\n",
       "      <td>40901.120000</td>\n",
       "      <td>764.960000</td>\n",
       "      <td>5.000000</td>\n",
       "    </tr>\n",
       "    <tr>\n",
       "      <th>max</th>\n",
       "      <td>64.000000</td>\n",
       "      <td>26.000000</td>\n",
       "      <td>3040.410000</td>\n",
       "      <td>99914.050000</td>\n",
       "      <td>2069.069761</td>\n",
       "      <td>5.000000</td>\n",
       "    </tr>\n",
       "  </tbody>\n",
       "</table>\n",
       "</div>"
      ],
      "text/plain": [
       "                age  days_since_last_login  avg_time_spent  \\\n",
       "count  28373.000000           28373.000000    28373.000000   \n",
       "mean      37.081310             -42.587319      243.610043   \n",
       "std       15.894149             230.134583      401.153815   \n",
       "min       10.000000            -999.000000    -2814.109110   \n",
       "25%       23.000000               8.000000       59.840000   \n",
       "50%       37.000000              12.000000      161.670000   \n",
       "75%       51.000000              16.000000      356.580000   \n",
       "max       64.000000              26.000000     3040.410000   \n",
       "\n",
       "       avg_transaction_value  points_in_wallet  churn_risk_score  \n",
       "count           28373.000000      28373.000000      28373.000000  \n",
       "mean            29314.556610        688.008287          3.458253  \n",
       "std             19509.169615        194.227585          1.411966  \n",
       "min               800.460000       -760.661236         -1.000000  \n",
       "25%             14191.820000        616.620000          3.000000  \n",
       "50%             27562.670000        698.480000          4.000000  \n",
       "75%             40901.120000        764.960000          5.000000  \n",
       "max             99914.050000       2069.069761          5.000000  "
      ]
     },
     "execution_count": 10,
     "metadata": {},
     "output_type": "execute_result"
    }
   ],
   "source": [
    "df.describe()"
   ]
  },
  {
   "cell_type": "code",
   "execution_count": 11,
   "id": "291999d8",
   "metadata": {},
   "outputs": [
    {
     "name": "stdout",
     "output_type": "stream",
     "text": [
      "<class 'pandas.core.frame.DataFrame'>\n",
      "Index: 28373 entries, 0 to 36991\n",
      "Data columns (total 25 columns):\n",
      " #   Column                        Non-Null Count  Dtype  \n",
      "---  ------                        --------------  -----  \n",
      " 0   customer_id                   28373 non-null  object \n",
      " 1   Name                          28373 non-null  object \n",
      " 2   age                           28373 non-null  int64  \n",
      " 3   gender                        28373 non-null  object \n",
      " 4   security_no                   28373 non-null  object \n",
      " 5   region_category               28373 non-null  object \n",
      " 6   membership_category           28373 non-null  object \n",
      " 7   joining_date                  28373 non-null  object \n",
      " 8   joined_through_referral       28373 non-null  object \n",
      " 9   referral_id                   28373 non-null  object \n",
      " 10  preferred_offer_types         28373 non-null  object \n",
      " 11  medium_of_operation           28373 non-null  object \n",
      " 12  internet_option               28373 non-null  object \n",
      " 13  last_visit_time               28373 non-null  object \n",
      " 14  days_since_last_login         28373 non-null  int64  \n",
      " 15  avg_time_spent                28373 non-null  float64\n",
      " 16  avg_transaction_value         28373 non-null  float64\n",
      " 17  avg_frequency_login_days      28373 non-null  object \n",
      " 18  points_in_wallet              28373 non-null  float64\n",
      " 19  used_special_discount         28373 non-null  object \n",
      " 20  offer_application_preference  28373 non-null  object \n",
      " 21  past_complaint                28373 non-null  object \n",
      " 22  complaint_status              28373 non-null  object \n",
      " 23  feedback                      28373 non-null  object \n",
      " 24  churn_risk_score              28373 non-null  int64  \n",
      "dtypes: float64(3), int64(3), object(19)\n",
      "memory usage: 5.6+ MB\n"
     ]
    }
   ],
   "source": [
    "df.info()"
   ]
  },
  {
   "cell_type": "code",
   "execution_count": 12,
   "id": "289b726c",
   "metadata": {},
   "outputs": [],
   "source": [
    "df = df.drop(columns=['customer_id', 'Name', 'security_no', 'referral_id'])"
   ]
  },
  {
   "cell_type": "code",
   "execution_count": 13,
   "id": "eae7f09b",
   "metadata": {},
   "outputs": [
    {
     "name": "stdout",
     "output_type": "stream",
     "text": [
      "<class 'pandas.core.frame.DataFrame'>\n",
      "Index: 28373 entries, 0 to 36991\n",
      "Data columns (total 21 columns):\n",
      " #   Column                        Non-Null Count  Dtype  \n",
      "---  ------                        --------------  -----  \n",
      " 0   age                           28373 non-null  int64  \n",
      " 1   gender                        28373 non-null  object \n",
      " 2   region_category               28373 non-null  object \n",
      " 3   membership_category           28373 non-null  object \n",
      " 4   joining_date                  28373 non-null  object \n",
      " 5   joined_through_referral       28373 non-null  object \n",
      " 6   preferred_offer_types         28373 non-null  object \n",
      " 7   medium_of_operation           28373 non-null  object \n",
      " 8   internet_option               28373 non-null  object \n",
      " 9   last_visit_time               28373 non-null  object \n",
      " 10  days_since_last_login         28373 non-null  int64  \n",
      " 11  avg_time_spent                28373 non-null  float64\n",
      " 12  avg_transaction_value         28373 non-null  float64\n",
      " 13  avg_frequency_login_days      28373 non-null  object \n",
      " 14  points_in_wallet              28373 non-null  float64\n",
      " 15  used_special_discount         28373 non-null  object \n",
      " 16  offer_application_preference  28373 non-null  object \n",
      " 17  past_complaint                28373 non-null  object \n",
      " 18  complaint_status              28373 non-null  object \n",
      " 19  feedback                      28373 non-null  object \n",
      " 20  churn_risk_score              28373 non-null  int64  \n",
      "dtypes: float64(3), int64(3), object(15)\n",
      "memory usage: 4.8+ MB\n"
     ]
    }
   ],
   "source": [
    "df.info()"
   ]
  },
  {
   "cell_type": "code",
   "execution_count": 14,
   "id": "03cbc138",
   "metadata": {},
   "outputs": [
    {
     "data": {
      "text/html": [
       "<div>\n",
       "<style scoped>\n",
       "    .dataframe tbody tr th:only-of-type {\n",
       "        vertical-align: middle;\n",
       "    }\n",
       "\n",
       "    .dataframe tbody tr th {\n",
       "        vertical-align: top;\n",
       "    }\n",
       "\n",
       "    .dataframe thead th {\n",
       "        text-align: right;\n",
       "    }\n",
       "</style>\n",
       "<table border=\"1\" class=\"dataframe\">\n",
       "  <thead>\n",
       "    <tr style=\"text-align: right;\">\n",
       "      <th></th>\n",
       "      <th>age</th>\n",
       "      <th>gender</th>\n",
       "      <th>region_category</th>\n",
       "      <th>membership_category</th>\n",
       "      <th>joining_date</th>\n",
       "      <th>joined_through_referral</th>\n",
       "      <th>preferred_offer_types</th>\n",
       "      <th>medium_of_operation</th>\n",
       "      <th>internet_option</th>\n",
       "      <th>last_visit_time</th>\n",
       "      <th>...</th>\n",
       "      <th>avg_time_spent</th>\n",
       "      <th>avg_transaction_value</th>\n",
       "      <th>avg_frequency_login_days</th>\n",
       "      <th>points_in_wallet</th>\n",
       "      <th>used_special_discount</th>\n",
       "      <th>offer_application_preference</th>\n",
       "      <th>past_complaint</th>\n",
       "      <th>complaint_status</th>\n",
       "      <th>feedback</th>\n",
       "      <th>churn_risk_score</th>\n",
       "    </tr>\n",
       "  </thead>\n",
       "  <tbody>\n",
       "    <tr>\n",
       "      <th>0</th>\n",
       "      <td>18</td>\n",
       "      <td>F</td>\n",
       "      <td>Village</td>\n",
       "      <td>Platinum Membership</td>\n",
       "      <td>8/17/2017</td>\n",
       "      <td>No</td>\n",
       "      <td>Gift Vouchers/Coupons</td>\n",
       "      <td>?</td>\n",
       "      <td>Wi-Fi</td>\n",
       "      <td>16:08:02</td>\n",
       "      <td>...</td>\n",
       "      <td>300.63</td>\n",
       "      <td>53005.25</td>\n",
       "      <td>17</td>\n",
       "      <td>781.75</td>\n",
       "      <td>Yes</td>\n",
       "      <td>Yes</td>\n",
       "      <td>No</td>\n",
       "      <td>Not Applicable</td>\n",
       "      <td>Products always in Stock</td>\n",
       "      <td>2</td>\n",
       "    </tr>\n",
       "    <tr>\n",
       "      <th>2</th>\n",
       "      <td>44</td>\n",
       "      <td>F</td>\n",
       "      <td>Town</td>\n",
       "      <td>No Membership</td>\n",
       "      <td>11/11/2016</td>\n",
       "      <td>Yes</td>\n",
       "      <td>Gift Vouchers/Coupons</td>\n",
       "      <td>Desktop</td>\n",
       "      <td>Wi-Fi</td>\n",
       "      <td>22:53:21</td>\n",
       "      <td>...</td>\n",
       "      <td>516.16</td>\n",
       "      <td>21027.00</td>\n",
       "      <td>22</td>\n",
       "      <td>500.69</td>\n",
       "      <td>No</td>\n",
       "      <td>Yes</td>\n",
       "      <td>Yes</td>\n",
       "      <td>Solved in Follow-up</td>\n",
       "      <td>Poor Website</td>\n",
       "      <td>5</td>\n",
       "    </tr>\n",
       "    <tr>\n",
       "      <th>3</th>\n",
       "      <td>37</td>\n",
       "      <td>M</td>\n",
       "      <td>City</td>\n",
       "      <td>No Membership</td>\n",
       "      <td>10/29/2016</td>\n",
       "      <td>Yes</td>\n",
       "      <td>Gift Vouchers/Coupons</td>\n",
       "      <td>Desktop</td>\n",
       "      <td>Mobile_Data</td>\n",
       "      <td>15:57:50</td>\n",
       "      <td>...</td>\n",
       "      <td>53.27</td>\n",
       "      <td>25239.56</td>\n",
       "      <td>6</td>\n",
       "      <td>567.66</td>\n",
       "      <td>No</td>\n",
       "      <td>Yes</td>\n",
       "      <td>Yes</td>\n",
       "      <td>Unsolved</td>\n",
       "      <td>Poor Website</td>\n",
       "      <td>5</td>\n",
       "    </tr>\n",
       "    <tr>\n",
       "      <th>4</th>\n",
       "      <td>31</td>\n",
       "      <td>F</td>\n",
       "      <td>City</td>\n",
       "      <td>No Membership</td>\n",
       "      <td>9/12/2017</td>\n",
       "      <td>No</td>\n",
       "      <td>Credit/Debit Card Offers</td>\n",
       "      <td>Smartphone</td>\n",
       "      <td>Mobile_Data</td>\n",
       "      <td>15:46:44</td>\n",
       "      <td>...</td>\n",
       "      <td>113.13</td>\n",
       "      <td>24483.66</td>\n",
       "      <td>16</td>\n",
       "      <td>663.06</td>\n",
       "      <td>No</td>\n",
       "      <td>Yes</td>\n",
       "      <td>Yes</td>\n",
       "      <td>Solved</td>\n",
       "      <td>Poor Website</td>\n",
       "      <td>5</td>\n",
       "    </tr>\n",
       "    <tr>\n",
       "      <th>5</th>\n",
       "      <td>13</td>\n",
       "      <td>M</td>\n",
       "      <td>City</td>\n",
       "      <td>Gold Membership</td>\n",
       "      <td>1/8/2016</td>\n",
       "      <td>No</td>\n",
       "      <td>Gift Vouchers/Coupons</td>\n",
       "      <td>?</td>\n",
       "      <td>Wi-Fi</td>\n",
       "      <td>6:46:07</td>\n",
       "      <td>...</td>\n",
       "      <td>433.62</td>\n",
       "      <td>13884.77</td>\n",
       "      <td>24</td>\n",
       "      <td>722.27</td>\n",
       "      <td>Yes</td>\n",
       "      <td>No</td>\n",
       "      <td>Yes</td>\n",
       "      <td>Unsolved</td>\n",
       "      <td>No reason specified</td>\n",
       "      <td>3</td>\n",
       "    </tr>\n",
       "  </tbody>\n",
       "</table>\n",
       "<p>5 rows × 21 columns</p>\n",
       "</div>"
      ],
      "text/plain": [
       "   age gender region_category  membership_category joining_date  \\\n",
       "0   18      F         Village  Platinum Membership    8/17/2017   \n",
       "2   44      F            Town        No Membership   11/11/2016   \n",
       "3   37      M            City        No Membership   10/29/2016   \n",
       "4   31      F            City        No Membership    9/12/2017   \n",
       "5   13      M            City      Gold Membership     1/8/2016   \n",
       "\n",
       "  joined_through_referral     preferred_offer_types medium_of_operation  \\\n",
       "0                      No     Gift Vouchers/Coupons                   ?   \n",
       "2                     Yes     Gift Vouchers/Coupons             Desktop   \n",
       "3                     Yes     Gift Vouchers/Coupons             Desktop   \n",
       "4                      No  Credit/Debit Card Offers          Smartphone   \n",
       "5                      No     Gift Vouchers/Coupons                   ?   \n",
       "\n",
       "  internet_option last_visit_time  ...  avg_time_spent  avg_transaction_value  \\\n",
       "0           Wi-Fi        16:08:02  ...          300.63               53005.25   \n",
       "2           Wi-Fi        22:53:21  ...          516.16               21027.00   \n",
       "3     Mobile_Data        15:57:50  ...           53.27               25239.56   \n",
       "4     Mobile_Data        15:46:44  ...          113.13               24483.66   \n",
       "5           Wi-Fi         6:46:07  ...          433.62               13884.77   \n",
       "\n",
       "   avg_frequency_login_days points_in_wallet  used_special_discount  \\\n",
       "0                        17           781.75                    Yes   \n",
       "2                        22           500.69                     No   \n",
       "3                         6           567.66                     No   \n",
       "4                        16           663.06                     No   \n",
       "5                        24           722.27                    Yes   \n",
       "\n",
       "  offer_application_preference past_complaint     complaint_status  \\\n",
       "0                          Yes             No       Not Applicable   \n",
       "2                          Yes            Yes  Solved in Follow-up   \n",
       "3                          Yes            Yes             Unsolved   \n",
       "4                          Yes            Yes               Solved   \n",
       "5                           No            Yes             Unsolved   \n",
       "\n",
       "                   feedback churn_risk_score  \n",
       "0  Products always in Stock                2  \n",
       "2              Poor Website                5  \n",
       "3              Poor Website                5  \n",
       "4              Poor Website                5  \n",
       "5       No reason specified                3  \n",
       "\n",
       "[5 rows x 21 columns]"
      ]
     },
     "execution_count": 14,
     "metadata": {},
     "output_type": "execute_result"
    }
   ],
   "source": [
    "df.head()"
   ]
  },
  {
   "cell_type": "code",
   "execution_count": 15,
   "id": "cef007a5",
   "metadata": {},
   "outputs": [
    {
     "data": {
      "text/plain": [
       "churn_risk_score\n",
       " 3    7998\n",
       " 4    7814\n",
       " 5    7499\n",
       " 2    2116\n",
       " 1    2045\n",
       "-1     901\n",
       "Name: count, dtype: int64"
      ]
     },
     "execution_count": 15,
     "metadata": {},
     "output_type": "execute_result"
    }
   ],
   "source": [
    "df['churn_risk_score'].value_counts()"
   ]
  },
  {
   "cell_type": "code",
   "execution_count": 16,
   "id": "de8f16e4",
   "metadata": {},
   "outputs": [
    {
     "data": {
      "text/plain": [
       "array([10, 11, 12, 13, 14, 15, 16, 17, 18, 19, 20, 21, 22, 23, 24, 25, 26,\n",
       "       27, 28, 29, 30, 31, 32, 33, 34, 35, 36, 37, 38, 39, 40, 41, 42, 43,\n",
       "       44, 45, 46, 47, 48, 49, 50, 51, 52, 53, 54, 55, 56, 57, 58, 59, 60,\n",
       "       61, 62, 63, 64], dtype=int64)"
      ]
     },
     "execution_count": 16,
     "metadata": {},
     "output_type": "execute_result"
    }
   ],
   "source": [
    "np.sort(df['age'].unique())"
   ]
  },
  {
   "cell_type": "code",
   "execution_count": 17,
   "id": "87fe5655",
   "metadata": {},
   "outputs": [
    {
     "data": {
      "text/plain": [
       "<Axes: >"
      ]
     },
     "execution_count": 17,
     "metadata": {},
     "output_type": "execute_result"
    },
    {
     "data": {
      "image/png": "[encoded data removed]",
      "text/plain": [
       "<Figure size 640x480 with 1 Axes>"
      ]
     },
     "metadata": {},
     "output_type": "display_data"
    }
   ],
   "source": [
    "df['age'].plot(kind='box')"
   ]
  },
  {
   "cell_type": "code",
   "execution_count": 18,
   "id": "80d516df",
   "metadata": {},
   "outputs": [
    {
     "data": {
      "text/plain": [
       "gender\n",
       "F          14203\n",
       "M          14127\n",
       "Unknown       43\n",
       "Name: count, dtype: int64"
      ]
     },
     "execution_count": 18,
     "metadata": {},
     "output_type": "execute_result"
    }
   ],
   "source": [
    "df['gender'].value_counts()"
   ]
  },
  {
   "cell_type": "code",
   "execution_count": 19,
   "id": "a6786325",
   "metadata": {},
   "outputs": [],
   "source": [
    "df = df[df['gender'] != 'Unknown']"
   ]
  },
  {
   "cell_type": "code",
   "execution_count": 20,
   "id": "3395fd17",
   "metadata": {},
   "outputs": [
    {
     "data": {
      "image/png": "[encoded data removed]",
      "text/plain": [
       "<Figure size 400x400 with 1 Axes>"
      ]
     },
     "metadata": {},
     "output_type": "display_data"
    }
   ],
   "source": [
    "genders = df['gender'].value_counts()\n",
    "\n",
    "plt.figure(figsize=(4,4))\n",
    "plt.pie(genders, \n",
    "        labels = genders.values,         \n",
    "        explode = [0.02,0.02],\n",
    "        autopct ='%1.1f%%',\n",
    "        shadow = True,\n",
    "        startangle = 90\n",
    "        )\n",
    "plt.legend(genders.index)\n",
    "plt.show()\n"
   ]
  },
  {
   "cell_type": "code",
   "execution_count": 21,
   "id": "007f17cd",
   "metadata": {},
   "outputs": [
    {
     "data": {
      "text/plain": [
       "region_category\n",
       "Town       12679\n",
       "City       11389\n",
       "Village     4262\n",
       "Name: count, dtype: int64"
      ]
     },
     "execution_count": 21,
     "metadata": {},
     "output_type": "execute_result"
    }
   ],
   "source": [
    "df['region_category'].value_counts()"
   ]
  },
  {
   "cell_type": "code",
   "execution_count": 22,
   "id": "735cdf36",
   "metadata": {},
   "outputs": [
    {
     "data": {
      "text/plain": [
       "<Axes: xlabel='region_category'>"
      ]
     },
     "execution_count": 22,
     "metadata": {},
     "output_type": "execute_result"
    },
    {
     "data": {
      "image/png": "[encoded data removed]",
      "text/plain": [
       "<Figure size 640x480 with 1 Axes>"
      ]
     },
     "metadata": {},
     "output_type": "display_data"
    }
   ],
   "source": [
    "pd.crosstab(df['region_category'], df['churn_risk_score']).plot(kind='bar', stacked=True)"
   ]
  },
  {
   "cell_type": "code",
   "execution_count": 23,
   "id": "68aaed27",
   "metadata": {},
   "outputs": [
    {
     "data": {
      "text/plain": [
       "membership_category\n",
       "Basic Membership       5886\n",
       "No Membership          5872\n",
       "Gold Membership        5201\n",
       "Silver Membership      4621\n",
       "Premium Membership     3420\n",
       "Platinum Membership    3330\n",
       "Name: count, dtype: int64"
      ]
     },
     "execution_count": 23,
     "metadata": {},
     "output_type": "execute_result"
    }
   ],
   "source": [
    "df['membership_category'].value_counts()"
   ]
  },
  {
   "cell_type": "code",
   "execution_count": 24,
   "id": "8eceeac4",
   "metadata": {},
   "outputs": [
    {
     "data": {
      "text/plain": [
       "<Axes: xlabel='membership_category'>"
      ]
     },
     "execution_count": 24,
     "metadata": {},
     "output_type": "execute_result"
    },
    {
     "data": {
      "image/png": "[encoded data removed]",
      "text/plain": [
       "<Figure size 640x480 with 1 Axes>"
      ]
     },
     "metadata": {},
     "output_type": "display_data"
    }
   ],
   "source": [
    "pd.crosstab(df['membership_category'], df['churn_risk_score']).plot(kind='bar', stacked=True)"
   ]
  },
  {
   "cell_type": "code",
   "execution_count": 25,
   "id": "6e24a55b",
   "metadata": {},
   "outputs": [
    {
     "data": {
      "text/plain": [
       "0         8/17/2017\n",
       "2        11/11/2016\n",
       "3        10/29/2016\n",
       "4         9/12/2017\n",
       "5          1/8/2016\n",
       "            ...    \n",
       "36985    10/25/2016\n",
       "36986      9/7/2015\n",
       "36988     6/27/2016\n",
       "36990     6/15/2017\n",
       "36991    10/23/2015\n",
       "Name: joining_date, Length: 28330, dtype: object"
      ]
     },
     "execution_count": 25,
     "metadata": {},
     "output_type": "execute_result"
    }
   ],
   "source": [
    "df['joining_date']"
   ]
  },
  {
   "cell_type": "code",
   "execution_count": 26,
   "id": "9a6bfc45",
   "metadata": {},
   "outputs": [],
   "source": [
    "df['joining_date'] = pd.to_datetime(df['joining_date'])"
   ]
  },
  {
   "cell_type": "code",
   "execution_count": 27,
   "id": "17e7986c",
   "metadata": {},
   "outputs": [
    {
     "data": {
      "text/plain": [
       "joining_date\n",
       "2017    9628\n",
       "2015    9446\n",
       "2016    9256\n",
       "Name: count, dtype: int64"
      ]
     },
     "execution_count": 27,
     "metadata": {},
     "output_type": "execute_result"
    }
   ],
   "source": [
    "df['joining_date'].apply(lambda x:str(x).split()[0].split('-')[0]).value_counts()"
   ]
  },
  {
   "cell_type": "code",
   "execution_count": 28,
   "id": "adf54ad6",
   "metadata": {},
   "outputs": [
    {
     "data": {
      "text/plain": [
       "joined_through_referral\n",
       "No     12164\n",
       "Yes    12002\n",
       "?       4164\n",
       "Name: count, dtype: int64"
      ]
     },
     "execution_count": 28,
     "metadata": {},
     "output_type": "execute_result"
    }
   ],
   "source": [
    "df['joined_through_referral'].value_counts()"
   ]
  },
  {
   "cell_type": "code",
   "execution_count": 29,
   "id": "87767ea9",
   "metadata": {},
   "outputs": [],
   "source": [
    "df = df[df['joined_through_referral'] != '?']"
   ]
  },
  {
   "cell_type": "code",
   "execution_count": 30,
   "id": "64af9bac",
   "metadata": {},
   "outputs": [
    {
     "data": {
      "text/plain": [
       "joined_through_referral\n",
       "No     12164\n",
       "Yes    12002\n",
       "Name: count, dtype: int64"
      ]
     },
     "execution_count": 30,
     "metadata": {},
     "output_type": "execute_result"
    }
   ],
   "source": [
    "df['joined_through_referral'].value_counts()"
   ]
  },
  {
   "cell_type": "code",
   "execution_count": 31,
   "id": "c652b080",
   "metadata": {},
   "outputs": [
    {
     "data": {
      "text/plain": [
       "preferred_offer_types\n",
       "Credit/Debit Card Offers    8102\n",
       "Gift Vouchers/Coupons       8100\n",
       "Without Offers              7964\n",
       "Name: count, dtype: int64"
      ]
     },
     "execution_count": 31,
     "metadata": {},
     "output_type": "execute_result"
    }
   ],
   "source": [
    "df['preferred_offer_types'].value_counts()"
   ]
  },
  {
   "cell_type": "code",
   "execution_count": 32,
   "id": "f29c2bf5",
   "metadata": {},
   "outputs": [
    {
     "data": {
      "text/plain": [
       "<Axes: xlabel='preferred_offer_types'>"
      ]
     },
     "execution_count": 32,
     "metadata": {},
     "output_type": "execute_result"
    },
    {
     "data": {
      "image/png": "[encoded data removed]",
      "text/plain": [
       "<Figure size 640x480 with 1 Axes>"
      ]
     },
     "metadata": {},
     "output_type": "display_data"
    }
   ],
   "source": [
    "pd.crosstab(df['preferred_offer_types'], df['churn_risk_score']).plot(kind='bar', stacked=True)"
   ]
  },
  {
   "cell_type": "code",
   "execution_count": 33,
   "id": "17eb09d5",
   "metadata": {},
   "outputs": [
    {
     "data": {
      "text/plain": [
       "medium_of_operation\n",
       "Smartphone    9108\n",
       "Desktop       9075\n",
       "?             3472\n",
       "Both          2511\n",
       "Name: count, dtype: int64"
      ]
     },
     "execution_count": 33,
     "metadata": {},
     "output_type": "execute_result"
    }
   ],
   "source": [
    "df['medium_of_operation'].value_counts()"
   ]
  },
  {
   "cell_type": "code",
   "execution_count": 34,
   "id": "6fc4e829",
   "metadata": {},
   "outputs": [],
   "source": [
    "df = df[df['medium_of_operation'] != '?']"
   ]
  },
  {
   "cell_type": "code",
   "execution_count": 35,
   "id": "269b26a7",
   "metadata": {},
   "outputs": [
    {
     "data": {
      "text/plain": [
       "medium_of_operation\n",
       "Smartphone    9108\n",
       "Desktop       9075\n",
       "Both          2511\n",
       "Name: count, dtype: int64"
      ]
     },
     "execution_count": 35,
     "metadata": {},
     "output_type": "execute_result"
    }
   ],
   "source": [
    "df['medium_of_operation'].value_counts()"
   ]
  },
  {
   "cell_type": "code",
   "execution_count": 36,
   "id": "a55892c5",
   "metadata": {},
   "outputs": [
    {
     "data": {
      "text/plain": [
       "<Axes: xlabel='medium_of_operation'>"
      ]
     },
     "execution_count": 36,
     "metadata": {},
     "output_type": "execute_result"
    },
    {
     "data": {
      "image/png": "[encoded data removed]",
      "text/plain": [
       "<Figure size 640x480 with 1 Axes>"
      ]
     },
     "metadata": {},
     "output_type": "display_data"
    }
   ],
   "source": [
    "pd.crosstab(df['medium_of_operation'], df['churn_risk_score']).plot(kind='bar', stacked=True)"
   ]
  },
  {
   "cell_type": "code",
   "execution_count": 37,
   "id": "aec8f6d3",
   "metadata": {},
   "outputs": [
    {
     "data": {
      "text/plain": [
       "internet_option\n",
       "Mobile_Data    6938\n",
       "Fiber_Optic    6882\n",
       "Wi-Fi          6874\n",
       "Name: count, dtype: int64"
      ]
     },
     "execution_count": 37,
     "metadata": {},
     "output_type": "execute_result"
    }
   ],
   "source": [
    "df['internet_option'].value_counts()"
   ]
  },
  {
   "cell_type": "code",
   "execution_count": 38,
   "id": "45d697f7",
   "metadata": {},
   "outputs": [
    {
     "data": {
      "text/plain": [
       "2        22:53:21\n",
       "3        15:57:50\n",
       "4        15:46:44\n",
       "6        11:40:04\n",
       "10        5:57:20\n",
       "           ...   \n",
       "36985     3:30:17\n",
       "36986     5:29:19\n",
       "36988    23:18:31\n",
       "36990     9:50:03\n",
       "36991     1:39:52\n",
       "Name: last_visit_time, Length: 20694, dtype: object"
      ]
     },
     "execution_count": 38,
     "metadata": {},
     "output_type": "execute_result"
    }
   ],
   "source": [
    "df['last_visit_time']"
   ]
  },
  {
   "cell_type": "code",
   "execution_count": 39,
   "id": "84a200d4",
   "metadata": {},
   "outputs": [],
   "source": [
    "df = df.drop(columns=['last_visit_time'])"
   ]
  },
  {
   "cell_type": "code",
   "execution_count": 40,
   "id": "f939bc98",
   "metadata": {},
   "outputs": [
    {
     "data": {
      "text/plain": [
       "array([  14,   11,   20,   10,   13,    9,   15,   21,   12,   17,   18,\n",
       "         22,    8,    6,   16, -999,    4,   19,    5,    1,   24,    3,\n",
       "          7,    2,   26,   25,   23], dtype=int64)"
      ]
     },
     "execution_count": 40,
     "metadata": {},
     "output_type": "execute_result"
    }
   ],
   "source": [
    "df['days_since_last_login'].unique()"
   ]
  },
  {
   "cell_type": "code",
   "execution_count": 41,
   "id": "1ce39972",
   "metadata": {},
   "outputs": [],
   "source": [
    "df = df[df['days_since_last_login'] != -999]"
   ]
  },
  {
   "cell_type": "code",
   "execution_count": 42,
   "id": "d778cfc6",
   "metadata": {},
   "outputs": [
    {
     "data": {
      "text/plain": [
       "array([14, 11, 20, 10, 13,  9, 15, 21, 12, 17, 18, 22,  8,  6, 16,  4, 19,\n",
       "        5,  1, 24,  3,  7,  2, 26, 25, 23], dtype=int64)"
      ]
     },
     "execution_count": 42,
     "metadata": {},
     "output_type": "execute_result"
    }
   ],
   "source": [
    "df['days_since_last_login'].unique()"
   ]
  },
  {
   "cell_type": "code",
   "execution_count": 43,
   "id": "30d1754d",
   "metadata": {},
   "outputs": [
    {
     "data": {
      "text/plain": [
       "count    19550.000000\n",
       "mean       243.262278\n",
       "std        403.601309\n",
       "min      -2814.109110\n",
       "25%         59.640000\n",
       "50%        160.680000\n",
       "75%        354.177500\n",
       "max       3040.410000\n",
       "Name: avg_time_spent, dtype: float64"
      ]
     },
     "execution_count": 43,
     "metadata": {},
     "output_type": "execute_result"
    }
   ],
   "source": [
    "df['avg_time_spent'].describe()"
   ]
  },
  {
   "cell_type": "code",
   "execution_count": 44,
   "id": "05b31f93",
   "metadata": {},
   "outputs": [],
   "source": [
    "df = df[df['avg_time_spent'] > 0]"
   ]
  },
  {
   "cell_type": "code",
   "execution_count": 45,
   "id": "61706507",
   "metadata": {},
   "outputs": [
    {
     "data": {
      "text/plain": [
       "count    18628.000000\n",
       "mean     29374.232869\n",
       "std      19573.167368\n",
       "min        800.460000\n",
       "25%      14279.512500\n",
       "50%      27628.775000\n",
       "75%      40859.962500\n",
       "max      99914.050000\n",
       "Name: avg_transaction_value, dtype: float64"
      ]
     },
     "execution_count": 45,
     "metadata": {},
     "output_type": "execute_result"
    }
   ],
   "source": [
    "df['avg_transaction_value'].describe()"
   ]
  },
  {
   "cell_type": "code",
   "execution_count": 46,
   "id": "18b384e5",
   "metadata": {},
   "outputs": [
    {
     "data": {
      "text/plain": [
       "2           22\n",
       "3            6\n",
       "4           16\n",
       "6           28\n",
       "10           8\n",
       "         ...  \n",
       "36984        2\n",
       "36985        7\n",
       "36986       16\n",
       "36990       20\n",
       "36991    Error\n",
       "Name: avg_frequency_login_days, Length: 18628, dtype: object"
      ]
     },
     "execution_count": 46,
     "metadata": {},
     "output_type": "execute_result"
    }
   ],
   "source": [
    "df['avg_frequency_login_days']"
   ]
  },
  {
   "cell_type": "code",
   "execution_count": 47,
   "id": "d27e7833",
   "metadata": {},
   "outputs": [],
   "source": [
    "df['avg_frequency_login_days'] = (pd.to_numeric(df[\"avg_frequency_login_days\"],errors=\"coerce\"))"
   ]
  },
  {
   "cell_type": "code",
   "execution_count": 48,
   "id": "b1c6f40f",
   "metadata": {},
   "outputs": [
    {
     "data": {
      "text/plain": [
       "array([nan])"
      ]
     },
     "execution_count": 48,
     "metadata": {},
     "output_type": "execute_result"
    }
   ],
   "source": [
    "df[df['avg_frequency_login_days'].isna() == True]['avg_frequency_login_days'].unique()"
   ]
  },
  {
   "cell_type": "code",
   "execution_count": 49,
   "id": "f915aa60",
   "metadata": {},
   "outputs": [],
   "source": [
    "df = df[df['avg_frequency_login_days'].isna() == False]"
   ]
  },
  {
   "cell_type": "code",
   "execution_count": 50,
   "id": "6ff012d4",
   "metadata": {},
   "outputs": [],
   "source": [
    "df['avg_frequency_login_days'] = df['avg_frequency_login_days'].apply(lambda x:int(x))"
   ]
  },
  {
   "cell_type": "code",
   "execution_count": 51,
   "id": "9aca76ee",
   "metadata": {},
   "outputs": [],
   "source": [
    "df = df[df['avg_frequency_login_days'] > 0]"
   ]
  },
  {
   "cell_type": "code",
   "execution_count": 52,
   "id": "4d097b38",
   "metadata": {},
   "outputs": [
    {
     "data": {
      "text/plain": [
       "count    16521.000000\n",
       "mean       688.254699\n",
       "std        192.896337\n",
       "min       -760.661236\n",
       "25%        617.280000\n",
       "50%        698.930000\n",
       "75%        764.910000\n",
       "max       2069.069761\n",
       "Name: points_in_wallet, dtype: float64"
      ]
     },
     "execution_count": 52,
     "metadata": {},
     "output_type": "execute_result"
    }
   ],
   "source": [
    "df['points_in_wallet'].describe()"
   ]
  },
  {
   "cell_type": "code",
   "execution_count": 53,
   "id": "b10f0263",
   "metadata": {},
   "outputs": [
    {
     "data": {
      "text/plain": [
       "used_special_discount\n",
       "Yes    9084\n",
       "No     7437\n",
       "Name: count, dtype: int64"
      ]
     },
     "execution_count": 53,
     "metadata": {},
     "output_type": "execute_result"
    }
   ],
   "source": [
    "df['used_special_discount'].value_counts()"
   ]
  },
  {
   "cell_type": "code",
   "execution_count": 54,
   "id": "4832bad5",
   "metadata": {},
   "outputs": [
    {
     "data": {
      "text/plain": [
       "offer_application_preference\n",
       "Yes    9114\n",
       "No     7407\n",
       "Name: count, dtype: int64"
      ]
     },
     "execution_count": 54,
     "metadata": {},
     "output_type": "execute_result"
    }
   ],
   "source": [
    "df['offer_application_preference'].value_counts()"
   ]
  },
  {
   "cell_type": "code",
   "execution_count": 55,
   "id": "b8a26914",
   "metadata": {},
   "outputs": [
    {
     "data": {
      "text/plain": [
       "<Axes: xlabel='used_special_discount'>"
      ]
     },
     "execution_count": 55,
     "metadata": {},
     "output_type": "execute_result"
    },
    {
     "data": {
      "image/png": "[encoded data removed]",
      "text/plain": [
       "<Figure size 640x480 with 1 Axes>"
      ]
     },
     "metadata": {},
     "output_type": "display_data"
    }
   ],
   "source": [
    "pd.crosstab(df['used_special_discount'], df['offer_application_preference']).plot(kind='bar')"
   ]
  },
  {
   "cell_type": "code",
   "execution_count": 56,
   "id": "9eab1966",
   "metadata": {},
   "outputs": [
    {
     "data": {
      "text/plain": [
       "past_complaint\n",
       "No     8266\n",
       "Yes    8255\n",
       "Name: count, dtype: int64"
      ]
     },
     "execution_count": 56,
     "metadata": {},
     "output_type": "execute_result"
    }
   ],
   "source": [
    "df['past_complaint'].value_counts()"
   ]
  },
  {
   "cell_type": "code",
   "execution_count": 57,
   "id": "ffc76e67",
   "metadata": {},
   "outputs": [
    {
     "data": {
      "text/plain": [
       "complaint_status\n",
       "Not Applicable              8266\n",
       "Solved                      2098\n",
       "Unsolved                    2090\n",
       "Solved in Follow-up         2055\n",
       "No Information Available    2012\n",
       "Name: count, dtype: int64"
      ]
     },
     "execution_count": 57,
     "metadata": {},
     "output_type": "execute_result"
    }
   ],
   "source": [
    "df['complaint_status'].value_counts()"
   ]
  },
  {
   "cell_type": "code",
   "execution_count": 58,
   "id": "e94af390",
   "metadata": {},
   "outputs": [
    {
     "data": {
      "text/plain": [
       "feedback\n",
       "Poor Website                2817\n",
       "Poor Product Quality        2809\n",
       "Too many ads                2806\n",
       "Poor Customer Service       2804\n",
       "No reason specified         2769\n",
       "Reasonable Price             646\n",
       "User Friendly Website        642\n",
       "Quality Customer Care        618\n",
       "Products always in Stock     610\n",
       "Name: count, dtype: int64"
      ]
     },
     "execution_count": 58,
     "metadata": {},
     "output_type": "execute_result"
    }
   ],
   "source": [
    "df['feedback'].value_counts()"
   ]
  },
  {
   "cell_type": "code",
   "execution_count": 59,
   "id": "8c1cb42e",
   "metadata": {},
   "outputs": [],
   "source": [
    "df = df.reset_index(drop=True)"
   ]
  },
  {
   "cell_type": "code",
   "execution_count": 60,
   "id": "ff368628",
   "metadata": {},
   "outputs": [],
   "source": [
    "df['ID'] = df.index + 1"
   ]
  },
  {
   "cell_type": "code",
   "execution_count": 61,
   "id": "886f35be",
   "metadata": {},
   "outputs": [
    {
     "name": "stdout",
     "output_type": "stream",
     "text": [
      "<class 'pandas.core.frame.DataFrame'>\n",
      "RangeIndex: 16521 entries, 0 to 16520\n",
      "Data columns (total 21 columns):\n",
      " #   Column                        Non-Null Count  Dtype         \n",
      "---  ------                        --------------  -----         \n",
      " 0   age                           16521 non-null  int64         \n",
      " 1   gender                        16521 non-null  object        \n",
      " 2   region_category               16521 non-null  object        \n",
      " 3   membership_category           16521 non-null  object        \n",
      " 4   joining_date                  16521 non-null  datetime64[ns]\n",
      " 5   joined_through_referral       16521 non-null  object        \n",
      " 6   preferred_offer_types         16521 non-null  object        \n",
      " 7   medium_of_operation           16521 non-null  object        \n",
      " 8   internet_option               16521 non-null  object        \n",
      " 9   days_since_last_login         16521 non-null  int64         \n",
      " 10  avg_time_spent                16521 non-null  float64       \n",
      " 11  avg_transaction_value         16521 non-null  float64       \n",
      " 12  avg_frequency_login_days      16521 non-null  int64         \n",
      " 13  points_in_wallet              16521 non-null  float64       \n",
      " 14  used_special_discount         16521 non-null  object        \n",
      " 15  offer_application_preference  16521 non-null  object        \n",
      " 16  past_complaint                16521 non-null  object        \n",
      " 17  complaint_status              16521 non-null  object        \n",
      " 18  feedback                      16521 non-null  object        \n",
      " 19  churn_risk_score              16521 non-null  int64         \n",
      " 20  ID                            16521 non-null  int64         \n",
      "dtypes: datetime64[ns](1), float64(3), int64(5), object(12)\n",
      "memory usage: 2.6+ MB\n"
     ]
    }
   ],
   "source": [
    "df.info()"
   ]
  },
  {
   "cell_type": "code",
   "execution_count": 62,
   "id": "820d9647",
   "metadata": {},
   "outputs": [
    {
     "data": {
      "text/html": [
       "<div>\n",
       "<style scoped>\n",
       "    .dataframe tbody tr th:only-of-type {\n",
       "        vertical-align: middle;\n",
       "    }\n",
       "\n",
       "    .dataframe tbody tr th {\n",
       "        vertical-align: top;\n",
       "    }\n",
       "\n",
       "    .dataframe thead th {\n",
       "        text-align: right;\n",
       "    }\n",
       "</style>\n",
       "<table border=\"1\" class=\"dataframe\">\n",
       "  <thead>\n",
       "    <tr style=\"text-align: right;\">\n",
       "      <th></th>\n",
       "      <th>age</th>\n",
       "      <th>gender</th>\n",
       "      <th>region_category</th>\n",
       "      <th>membership_category</th>\n",
       "      <th>joining_date</th>\n",
       "      <th>joined_through_referral</th>\n",
       "      <th>preferred_offer_types</th>\n",
       "      <th>medium_of_operation</th>\n",
       "      <th>internet_option</th>\n",
       "      <th>days_since_last_login</th>\n",
       "      <th>...</th>\n",
       "      <th>avg_transaction_value</th>\n",
       "      <th>avg_frequency_login_days</th>\n",
       "      <th>points_in_wallet</th>\n",
       "      <th>used_special_discount</th>\n",
       "      <th>offer_application_preference</th>\n",
       "      <th>past_complaint</th>\n",
       "      <th>complaint_status</th>\n",
       "      <th>feedback</th>\n",
       "      <th>churn_risk_score</th>\n",
       "      <th>ID</th>\n",
       "    </tr>\n",
       "  </thead>\n",
       "  <tbody>\n",
       "    <tr>\n",
       "      <th>0</th>\n",
       "      <td>44</td>\n",
       "      <td>F</td>\n",
       "      <td>Town</td>\n",
       "      <td>No Membership</td>\n",
       "      <td>2016-11-11</td>\n",
       "      <td>Yes</td>\n",
       "      <td>Gift Vouchers/Coupons</td>\n",
       "      <td>Desktop</td>\n",
       "      <td>Wi-Fi</td>\n",
       "      <td>14</td>\n",
       "      <td>...</td>\n",
       "      <td>21027.00</td>\n",
       "      <td>22</td>\n",
       "      <td>500.69</td>\n",
       "      <td>No</td>\n",
       "      <td>Yes</td>\n",
       "      <td>Yes</td>\n",
       "      <td>Solved in Follow-up</td>\n",
       "      <td>Poor Website</td>\n",
       "      <td>5</td>\n",
       "      <td>1</td>\n",
       "    </tr>\n",
       "    <tr>\n",
       "      <th>1</th>\n",
       "      <td>37</td>\n",
       "      <td>M</td>\n",
       "      <td>City</td>\n",
       "      <td>No Membership</td>\n",
       "      <td>2016-10-29</td>\n",
       "      <td>Yes</td>\n",
       "      <td>Gift Vouchers/Coupons</td>\n",
       "      <td>Desktop</td>\n",
       "      <td>Mobile_Data</td>\n",
       "      <td>11</td>\n",
       "      <td>...</td>\n",
       "      <td>25239.56</td>\n",
       "      <td>6</td>\n",
       "      <td>567.66</td>\n",
       "      <td>No</td>\n",
       "      <td>Yes</td>\n",
       "      <td>Yes</td>\n",
       "      <td>Unsolved</td>\n",
       "      <td>Poor Website</td>\n",
       "      <td>5</td>\n",
       "      <td>2</td>\n",
       "    </tr>\n",
       "    <tr>\n",
       "      <th>2</th>\n",
       "      <td>31</td>\n",
       "      <td>F</td>\n",
       "      <td>City</td>\n",
       "      <td>No Membership</td>\n",
       "      <td>2017-09-12</td>\n",
       "      <td>No</td>\n",
       "      <td>Credit/Debit Card Offers</td>\n",
       "      <td>Smartphone</td>\n",
       "      <td>Mobile_Data</td>\n",
       "      <td>20</td>\n",
       "      <td>...</td>\n",
       "      <td>24483.66</td>\n",
       "      <td>16</td>\n",
       "      <td>663.06</td>\n",
       "      <td>No</td>\n",
       "      <td>Yes</td>\n",
       "      <td>Yes</td>\n",
       "      <td>Solved</td>\n",
       "      <td>Poor Website</td>\n",
       "      <td>5</td>\n",
       "      <td>3</td>\n",
       "    </tr>\n",
       "    <tr>\n",
       "      <th>3</th>\n",
       "      <td>21</td>\n",
       "      <td>M</td>\n",
       "      <td>Town</td>\n",
       "      <td>Gold Membership</td>\n",
       "      <td>2015-03-19</td>\n",
       "      <td>Yes</td>\n",
       "      <td>Gift Vouchers/Coupons</td>\n",
       "      <td>Desktop</td>\n",
       "      <td>Mobile_Data</td>\n",
       "      <td>10</td>\n",
       "      <td>...</td>\n",
       "      <td>8982.50</td>\n",
       "      <td>28</td>\n",
       "      <td>756.21</td>\n",
       "      <td>Yes</td>\n",
       "      <td>No</td>\n",
       "      <td>Yes</td>\n",
       "      <td>Solved in Follow-up</td>\n",
       "      <td>No reason specified</td>\n",
       "      <td>3</td>\n",
       "      <td>4</td>\n",
       "    </tr>\n",
       "    <tr>\n",
       "      <th>4</th>\n",
       "      <td>25</td>\n",
       "      <td>F</td>\n",
       "      <td>Village</td>\n",
       "      <td>Basic Membership</td>\n",
       "      <td>2016-05-22</td>\n",
       "      <td>Yes</td>\n",
       "      <td>Gift Vouchers/Coupons</td>\n",
       "      <td>Both</td>\n",
       "      <td>Wi-Fi</td>\n",
       "      <td>14</td>\n",
       "      <td>...</td>\n",
       "      <td>35119.93</td>\n",
       "      <td>8</td>\n",
       "      <td>699.70</td>\n",
       "      <td>Yes</td>\n",
       "      <td>Yes</td>\n",
       "      <td>No</td>\n",
       "      <td>Not Applicable</td>\n",
       "      <td>Poor Product Quality</td>\n",
       "      <td>5</td>\n",
       "      <td>5</td>\n",
       "    </tr>\n",
       "  </tbody>\n",
       "</table>\n",
       "<p>5 rows × 21 columns</p>\n",
       "</div>"
      ],
      "text/plain": [
       "   age gender region_category membership_category joining_date  \\\n",
       "0   44      F            Town       No Membership   2016-11-11   \n",
       "1   37      M            City       No Membership   2016-10-29   \n",
       "2   31      F            City       No Membership   2017-09-12   \n",
       "3   21      M            Town     Gold Membership   2015-03-19   \n",
       "4   25      F         Village    Basic Membership   2016-05-22   \n",
       "\n",
       "  joined_through_referral     preferred_offer_types medium_of_operation  \\\n",
       "0                     Yes     Gift Vouchers/Coupons             Desktop   \n",
       "1                     Yes     Gift Vouchers/Coupons             Desktop   \n",
       "2                      No  Credit/Debit Card Offers          Smartphone   \n",
       "3                     Yes     Gift Vouchers/Coupons             Desktop   \n",
       "4                     Yes     Gift Vouchers/Coupons                Both   \n",
       "\n",
       "  internet_option  days_since_last_login  ...  avg_transaction_value  \\\n",
       "0           Wi-Fi                     14  ...               21027.00   \n",
       "1     Mobile_Data                     11  ...               25239.56   \n",
       "2     Mobile_Data                     20  ...               24483.66   \n",
       "3     Mobile_Data                     10  ...                8982.50   \n",
       "4           Wi-Fi                     14  ...               35119.93   \n",
       "\n",
       "   avg_frequency_login_days  points_in_wallet  used_special_discount  \\\n",
       "0                        22            500.69                     No   \n",
       "1                         6            567.66                     No   \n",
       "2                        16            663.06                     No   \n",
       "3                        28            756.21                    Yes   \n",
       "4                         8            699.70                    Yes   \n",
       "\n",
       "  offer_application_preference past_complaint     complaint_status  \\\n",
       "0                          Yes            Yes  Solved in Follow-up   \n",
       "1                          Yes            Yes             Unsolved   \n",
       "2                          Yes            Yes               Solved   \n",
       "3                           No            Yes  Solved in Follow-up   \n",
       "4                          Yes             No       Not Applicable   \n",
       "\n",
       "               feedback churn_risk_score  ID  \n",
       "0          Poor Website                5   1  \n",
       "1          Poor Website                5   2  \n",
       "2          Poor Website                5   3  \n",
       "3   No reason specified                3   4  \n",
       "4  Poor Product Quality                5   5  \n",
       "\n",
       "[5 rows x 21 columns]"
      ]
     },
     "execution_count": 62,
     "metadata": {},
     "output_type": "execute_result"
    }
   ],
   "source": [
    "df.head()"
   ]
  },
  {
   "cell_type": "code",
   "execution_count": 63,
   "id": "460e0284",
   "metadata": {},
   "outputs": [],
   "source": [
    "pd.DataFrame(df).to_csv(r'Churn_2_Cleaned.csv')"
   ]
  },
  {
   "cell_type": "code",
   "execution_count": null,
   "id": "f3a181de",
   "metadata": {},
   "outputs": [],
   "source": []
  }
 ],
 "metadata": {
  "kernelspec": {
   "display_name": "Python 3 (ipykernel)",
   "language": "python",
   "name": "python3"
  },
  "language_info": {
   "codemirror_mode": {
    "name": "ipython",
    "version": 3
   },
   "file_extension": ".py",
   "mimetype": "text/x-python",
   "name": "python",
   "nbconvert_exporter": "python",
   "pygments_lexer": "ipython3",
   "version": "3.12.2"
  }
 },
 "nbformat": 4,
 "nbformat_minor": 5
}
